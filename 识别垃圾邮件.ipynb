{
 "cells": [
  {
   "cell_type": "markdown",
   "metadata": {},
   "source": [
    "# 测试二"
   ]
  },
  {
   "cell_type": "code",
   "execution_count": 3,
   "metadata": {
    "collapsed": true
   },
   "outputs": [],
   "source": [
    "import pandas as pd\n",
    "import numpy as np\n",
    "import matplotlib.pyplot as plt\n",
    "from sklearn.naive_bayes import MultinomialNB\n",
    "from sklearn.feature_extraction.text import CountVectorizer\n",
    "from sklearn.cross_validation import train_test_split"
   ]
  },
  {
   "cell_type": "code",
   "execution_count": 4,
   "metadata": {
    "collapsed": false
   },
   "outputs": [
    {
     "data": {
      "text/plain": [
       "25"
      ]
     },
     "execution_count": 4,
     "metadata": {},
     "output_type": "execute_result"
    }
   ],
   "source": [
    "hamText = []\n",
    "for i in range(1,26):\n",
    "    try:\n",
    "        with open('email/ham/%d.txt'%i, 'r', encoding=\"utf-8\") as f:\n",
    "            text = ''.join(f.readlines()).replace('\\n', ' ')\n",
    "#             print(text)\n",
    "            hamText.append(text)\n",
    "    except UnicodeDecodeError:\n",
    "        with open('email/ham/%d.txt'%i, 'r', encoding=\"ISO-8859-1\") as f:\n",
    "            text = ''.join(f.readlines()).replace('\\n', ' ')\n",
    "#             print(text)\n",
    "            hamText.append(text)\n",
    "len(hamText)   "
   ]
  },
  {
   "cell_type": "code",
   "execution_count": 5,
   "metadata": {
    "collapsed": false
   },
   "outputs": [
    {
     "data": {
      "text/plain": [
       "50"
      ]
     },
     "execution_count": 5,
     "metadata": {},
     "output_type": "execute_result"
    }
   ],
   "source": [
    "spamText = []\n",
    "for i in range(1,26):\n",
    "    try:\n",
    "        with open('email/spam/%d.txt'%i, 'r', encoding=\"utf-8\") as f:\n",
    "            text = ''.join(f.readlines()).replace('\\n', ' ')\n",
    "#             print(text)\n",
    "            spamText.append(text)\n",
    "    except UnicodeDecodeError:\n",
    "        with open('email/spam/%d.txt'%i, 'r', encoding=\"ISO-8859-1\") as f:\n",
    "            text = ''.join(f.readlines()).replace('\\n', ' ')\n",
    "#             print(text)\n",
    "            spamText.append(text)\n",
    "len(spamText)\n",
    "sumText = hamText + spamText\n",
    "len(sumText)"
   ]
  },
  {
   "cell_type": "code",
   "execution_count": 6,
   "metadata": {
    "collapsed": false,
    "scrolled": false
   },
   "outputs": [
    {
     "data": {
      "text/plain": [
       "(\"Thanks Peter.  I'll definitely check in on this. How is your book going? I heard chapter 1 came in and it was in  good shape. ;-)  I hope you are doing well.  Cheers,  Troy\",\n",
       " 0.0)"
      ]
     },
     "execution_count": 6,
     "metadata": {},
     "output_type": "execute_result"
    }
   ],
   "source": [
    "vectorizer=CountVectorizer()\n",
    "vectorizer.fit_transform(sumText).todense(), vectorizer.vocabulary_\n",
    "target = np.ones(50)\n",
    "target[:25] = 0\n",
    "vectorizer.fit_transform(sumText).todense()\n",
    "X_train, X_test, y_train, y_test = train_test_split(sumText, target)\n",
    "X_train[0], y_train[0]"
   ]
  },
  {
   "cell_type": "code",
   "execution_count": 2,
   "metadata": {
    "collapsed": false
   },
   "outputs": [
    {
     "ename": "NameError",
     "evalue": "name 'vectorizer' is not defined",
     "output_type": "error",
     "traceback": [
      "\u001b[0;31m---------------------------------------------------------------------------\u001b[0m",
      "\u001b[0;31mNameError\u001b[0m                                 Traceback (most recent call last)",
      "\u001b[0;32m<ipython-input-2-98f2b31f6849>\u001b[0m in \u001b[0;36m<module>\u001b[0;34m()\u001b[0m\n\u001b[0;32m----> 1\u001b[0;31m \u001b[0mvectorizer\u001b[0m\u001b[0;34m.\u001b[0m\u001b[0mvocabulary_\u001b[0m\u001b[0;34m\u001b[0m\u001b[0m\n\u001b[0m",
      "\u001b[0;31mNameError\u001b[0m: name 'vectorizer' is not defined"
     ]
    }
   ],
   "source": [
    "vectorizer.vocabulary_"
   ]
  },
  {
   "cell_type": "code",
   "execution_count": 102,
   "metadata": {
    "collapsed": false,
    "scrolled": false
   },
   "outputs": [],
   "source": [
    "# cv=CountVectorizer()\n",
    "# cv.fit_transform(sumText).todense(), cv.vocabulary_\n",
    "# target = np.ones(50)\n",
    "# target[:25] = 0\n",
    "# cv_fit = vectorizer.fit_transform(sumText)\n",
    "# cv_fit.toarray()\n",
    "# vectorizer.fit_transform(sumText).todense()\n",
    "# X_train, X_test, y_train, y_test = train_test_split(sumText, target)\n",
    "# X_train[0], y_train[0]"
   ]
  },
  {
   "cell_type": "code",
   "execution_count": 103,
   "metadata": {
    "collapsed": false,
    "scrolled": true
   },
   "outputs": [
    {
     "data": {
      "text/plain": [
       "0.9230769230769231"
      ]
     },
     "execution_count": 103,
     "metadata": {},
     "output_type": "execute_result"
    }
   ],
   "source": [
    "clf = MultinomialNB()\n",
    "clf.fit(vectorizer.fit_transform(X_train), y_train)\n",
    "clf.score(vectorizer.transform(X_test), y_test)"
   ]
  },
  {
   "cell_type": "code",
   "execution_count": 104,
   "metadata": {
    "collapsed": false
   },
   "outputs": [
    {
     "data": {
      "text/plain": [
       "(0.0,\n",
       " \"Yay to you both doing fine!  I'm working on an MBA in Design Strategy at CCA (top art school.)  It's a new program focusing on more of a right-brained creative and strategic approach to management.  I'm an 1/8 of the way done today!\")"
      ]
     },
     "execution_count": 104,
     "metadata": {},
     "output_type": "execute_result"
    }
   ],
   "source": [
    "clf.predict(vectorizer.transform(X_test))[0], X_test[0]"
   ]
  }
 ],
 "metadata": {
  "anaconda-cloud": {},
  "kernelspec": {
   "display_name": "Python [conda root]",
   "language": "python",
   "name": "conda-root-py"
  },
  "language_info": {
   "codemirror_mode": {
    "name": "ipython",
    "version": 3
   },
   "file_extension": ".py",
   "mimetype": "text/x-python",
   "name": "python",
   "nbconvert_exporter": "python",
   "pygments_lexer": "ipython3",
   "version": "3.5.2"
  }
 },
 "nbformat": 4,
 "nbformat_minor": 1
}
